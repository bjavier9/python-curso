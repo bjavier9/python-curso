{
 "cells": [
  {
   "cell_type": "code",
   "execution_count": 2,
   "metadata": {},
   "outputs": [
    {
     "name": "stdout",
     "output_type": "stream",
     "text": [
      "se cumplio \n",
      "se muestra este print\n"
     ]
    }
   ],
   "source": [
    "if True:\n",
    "    print(\"se cumplio \")\n",
    "    print(\"se muestra este print\")"
   ]
  },
  {
   "cell_type": "code",
   "execution_count": 3,
   "metadata": {},
   "outputs": [
    {
     "name": "stdout",
     "output_type": "stream",
     "text": [
      "a vale 5\n"
     ]
    }
   ],
   "source": [
    "a = 5\n",
    "if a == 2:\n",
    "    print(\"a vale 2\")\n",
    "if a == 5:\n",
    "    print(\"a vale 5\")\n"
   ]
  },
  {
   "cell_type": "code",
   "execution_count": 4,
   "metadata": {},
   "outputs": [
    {
     "name": "stdout",
     "output_type": "stream",
     "text": [
      "a vale 5\n",
      "y b vale 10\n"
     ]
    }
   ],
   "source": [
    "a = 5\n",
    "b = 10\n",
    "if a == 5:\n",
    "    print(\"a vale\",a)\n",
    "    if b == 10 :\n",
    "        print(\"y b vale\",b)"
   ]
  },
  {
   "cell_type": "code",
   "execution_count": 5,
   "metadata": {},
   "outputs": [
    {
     "name": "stdout",
     "output_type": "stream",
     "text": [
      "a vale 5 y b vale 10\n"
     ]
    }
   ],
   "source": [
    "if a == 5 and b == 10:\n",
    "    print(\"a vale 5 y b vale 10\")"
   ]
  },
  {
   "cell_type": "code",
   "execution_count": 7,
   "metadata": {},
   "outputs": [
    {
     "name": "stdout",
     "output_type": "stream",
     "text": [
      "11 es impar\n"
     ]
    }
   ],
   "source": [
    "n = 11 \n",
    "if n % 2 == 0:\n",
    "    print(n,\"es un numero par\")\n",
    "else:\n",
    "    print(n, \"es impar\")"
   ]
  },
  {
   "cell_type": "code",
   "execution_count": 9,
   "metadata": {},
   "outputs": [
    {
     "name": "stdout",
     "output_type": "stream",
     "text": [
      "hola que paso\n"
     ]
    }
   ],
   "source": [
    "c = \"ENTRAR\"\n",
    "if c == \"ENTRAR\":\n",
    "    print(\"hola que paso\")\n",
    "elif c == \"SALUDAR\":\n",
    "    print(\"pasala chevere\")\n",
    "elif c == \"SALIR\":\n",
    "    print(\"saliendo del sistema\")\n",
    "else:\n",
    "    print(\"este comando que es\")"
   ]
  },
  {
   "cell_type": "code",
   "execution_count": 11,
   "metadata": {
    "scrolled": true
   },
   "outputs": [
    {
     "name": "stdout",
     "output_type": "stream",
     "text": [
      "introduce tu nota: 7\n",
      "buena es\n"
     ]
    }
   ],
   "source": [
    "n = float(input(\"introduce tu nota: \"))\n",
    "if n >= 9:\n",
    "    print(\"genial\")\n",
    "elif n >= 7:\n",
    "    print(\"buena es\")\n",
    "elif n >= 6:\n",
    "    print(\"normal\")\n",
    "elif n >= 5:\n",
    "    print(\"suficiente\")\n",
    "else:\n",
    "    print(\"te quedastes\")"
   ]
  },
  {
   "cell_type": "code",
   "execution_count": 12,
   "metadata": {},
   "outputs": [],
   "source": [
    "if True:\n",
    "    pass"
   ]
  },
  {
   "cell_type": "code",
   "execution_count": null,
   "metadata": {},
   "outputs": [],
   "source": []
  }
 ],
 "metadata": {
  "kernelspec": {
   "display_name": "Python 3",
   "language": "python",
   "name": "python3"
  },
  "language_info": {
   "codemirror_mode": {
    "name": "ipython",
    "version": 3
   },
   "file_extension": ".py",
   "mimetype": "text/x-python",
   "name": "python",
   "nbconvert_exporter": "python",
   "pygments_lexer": "ipython3",
   "version": "3.7.1"
  }
 },
 "nbformat": 4,
 "nbformat_minor": 2
}
