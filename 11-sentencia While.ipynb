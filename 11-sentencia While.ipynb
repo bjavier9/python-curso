{
 "cells": [
  {
   "cell_type": "code",
   "execution_count": 1,
   "metadata": {},
   "outputs": [
    {
     "name": "stdout",
     "output_type": "stream",
     "text": [
      "c vale 1\n",
      "c vale 2\n",
      "c vale 3\n",
      "c vale 4\n",
      "c vale 5\n",
      "c vale 6\n"
     ]
    }
   ],
   "source": [
    "c = 0 \n",
    "while c <=5:\n",
    "    c+=1\n",
    "    print(\"c vale\",c)"
   ]
  },
  {
   "cell_type": "code",
   "execution_count": 2,
   "metadata": {},
   "outputs": [
    {
     "name": "stdout",
     "output_type": "stream",
     "text": [
      "c vale 1\n",
      "c vale 2\n",
      "c vale 3\n",
      "c vale 4\n",
      "c vale 5\n",
      "c vale 6\n",
      "se completo c vale :  6\n"
     ]
    }
   ],
   "source": [
    "c = 0 \n",
    "while c <=5:\n",
    "    c+=1\n",
    "    print(\"c vale\",c)\n",
    "else:\n",
    "    print(\"se completo c vale : \", c)"
   ]
  },
  {
   "cell_type": "code",
   "execution_count": 4,
   "metadata": {},
   "outputs": [
    {
     "name": "stdout",
     "output_type": "stream",
     "text": [
      "c vale 1\n",
      "c vale 2\n",
      "c vale 3\n",
      "se rompio c 4\n"
     ]
    }
   ],
   "source": [
    "c = 0\n",
    "while c <=5:\n",
    "    c+=1\n",
    "    if(c==4):\n",
    "        print(\"se rompio c\",c)\n",
    "        break\n",
    "    print(\"c vale\",c)\n",
    "else:\n",
    "    print(\"se completo c vale : \", c)"
   ]
  },
  {
   "cell_type": "code",
   "execution_count": 5,
   "metadata": {},
   "outputs": [
    {
     "name": "stdout",
     "output_type": "stream",
     "text": [
      "c vale 1\n",
      "c vale 2\n",
      "c vale 3\n",
      "continuamos c 4\n",
      "c vale 5\n",
      "c vale 6\n",
      "se completo c vale :  6\n"
     ]
    }
   ],
   "source": [
    "c = 0\n",
    "while c <=5:\n",
    "    c+=1\n",
    "    if(c==4):\n",
    "        print(\"continuamos c\",c)\n",
    "        continue\n",
    "    print(\"c vale\",c)\n",
    "else:\n",
    "    print(\"se completo c vale : \", c)"
   ]
  },
  {
   "cell_type": "markdown",
   "metadata": {},
   "source": [
    "while(True):\n",
    "    print(\"\"\"\n",
    "    que quiere hacer joven:\n",
    "    1-saludar\n",
    "    2-sumar numeros\n",
    "    3 salir   \"\"\")\n",
    "    o = input()\n",
    "    if o == 1:\n",
    "        print(\"hola\")\n",
    "    elif o == 2:\n",
    "        n1 = float(input(\"introduce el primer numero: \" ))\n",
    "        n2 = float(input(\"Introduce el segundo numero: \"))\n",
    "    elif o == 3:\n",
    "        print(\"bye\")\n",
    "        break\n",
    "    else:\n",
    "        print(\"nose que tas escribiendo \")1\n",
    "        \n",
    "        "
   ]
  },
  {
   "cell_type": "code",
   "execution_count": null,
   "metadata": {},
   "outputs": [],
   "source": []
  }
 ],
 "metadata": {
  "kernelspec": {
   "display_name": "Python 3",
   "language": "python",
   "name": "python3"
  },
  "language_info": {
   "codemirror_mode": {
    "name": "ipython",
    "version": 3
   },
   "file_extension": ".py",
   "mimetype": "text/x-python",
   "name": "python",
   "nbconvert_exporter": "python",
   "pygments_lexer": "ipython3",
   "version": "3.7.1"
  }
 },
 "nbformat": 4,
 "nbformat_minor": 2
}
