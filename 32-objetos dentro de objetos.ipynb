{
 "cells": [
  {
   "cell_type": "code",
   "execution_count": 1,
   "metadata": {},
   "outputs": [],
   "source": [
    "class Pelicula: \n",
    "    def __init__(self,titulo,duracion,lanzamiento):\n",
    "        self.titulo = titulo\n",
    "        self.duracion = duracion\n",
    "        self.lanzamiento = lanzamiento\n",
    "        print(\"se ha creado una peli\",self.titulo)\n",
    "          \n",
    "    def __str__(self):\n",
    "        return \"{} Lanzada en {} con una duración de {} minutos\".format(self.titulo, self.lanzamiento, self.duracion)\n",
    "    "
   ]
  },
  {
   "cell_type": "code",
   "execution_count": 2,
   "metadata": {},
   "outputs": [],
   "source": [
    "class Catalogo:\n",
    "    peliculas = []\n",
    "    \n",
    "    def __init__(self, peliculas=[]):\n",
    "        self.peliculas = peliculas\n",
    "        \n",
    "    def agregar(self, p):\n",
    "        self.peliculas.append(p)\n",
    "    def mostrar(self):\n",
    "        for p in self.peliculas:\n",
    "            print(p)"
   ]
  },
  {
   "cell_type": "code",
   "execution_count": 4,
   "metadata": {},
   "outputs": [
    {
     "name": "stdout",
     "output_type": "stream",
     "text": [
      "se ha creado una peli El padrino\n",
      "se ha creado una peli El padrino: Parte 2\n"
     ]
    }
   ],
   "source": [
    "p = Pelicula(\"El padrino\",175,1972)\n",
    "c = Catalogo([p])\n",
    "c.agregar(Pelicula(\"El padrino: Parte 2\",202,1974))"
   ]
  },
  {
   "cell_type": "code",
   "execution_count": 5,
   "metadata": {},
   "outputs": [
    {
     "name": "stdout",
     "output_type": "stream",
     "text": [
      "El padrino Lanzada en 1972 con una duración de 175 minutos\n",
      "El padrino: Parte 2 Lanzada en 1974 con una duración de 202 minutos\n"
     ]
    }
   ],
   "source": [
    "c.mostrar()"
   ]
  },
  {
   "cell_type": "code",
   "execution_count": null,
   "metadata": {},
   "outputs": [],
   "source": []
  }
 ],
 "metadata": {
  "kernelspec": {
   "display_name": "Python 3",
   "language": "python",
   "name": "python3"
  },
  "language_info": {
   "codemirror_mode": {
    "name": "ipython",
    "version": 3
   },
   "file_extension": ".py",
   "mimetype": "text/x-python",
   "name": "python",
   "nbconvert_exporter": "python",
   "pygments_lexer": "ipython3",
   "version": "3.7.1"
  }
 },
 "nbformat": 4,
 "nbformat_minor": 2
}
