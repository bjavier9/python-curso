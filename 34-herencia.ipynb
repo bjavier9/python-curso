{
 "cells": [
  {
   "cell_type": "code",
   "execution_count": 6,
   "metadata": {},
   "outputs": [],
   "source": [
    "class Producto:\n",
    "    def __init__(self,referencia, tipo,nombre, pvp, descripcion, productor=None,distribuidor=None,isbn=None,autor=None ):\n",
    "        self.referencia = referencia\n",
    "        self.tipo = tipo\n",
    "        self.nombre = nombre\n",
    "        self.pvp = pvp\n",
    "        self.descripcion = descripcion\n",
    "        self.productor = productor\n",
    "        self.distribuidor = distribuidor\n",
    "        self.isbn = isbn\n",
    "        self.autor = autor\n",
    "\n",
    "adorno = Producto('000A', 'adorno','vaso adornado',15,'vaso de vidrio')\n",
    "\n",
    "        "
   ]
  },
  {
   "cell_type": "code",
   "execution_count": 7,
   "metadata": {},
   "outputs": [
    {
     "data": {
      "text/plain": [
       "<__main__.Producto at 0x221e2d75630>"
      ]
     },
     "execution_count": 7,
     "metadata": {},
     "output_type": "execute_result"
    }
   ],
   "source": [
    "adorno"
   ]
  },
  {
   "cell_type": "code",
   "execution_count": 8,
   "metadata": {},
   "outputs": [
    {
     "data": {
      "text/plain": [
       "'adorno'"
      ]
     },
     "execution_count": 8,
     "metadata": {},
     "output_type": "execute_result"
    }
   ],
   "source": [
    "adorno.tipo"
   ]
  },
  {
   "cell_type": "code",
   "execution_count": 22,
   "metadata": {},
   "outputs": [],
   "source": [
    "class Producto:\n",
    "    def __init__(self, referencia,nombre, pvp, descripcion):\n",
    "        self.referencia = referencia\n",
    "        self.nombre = nombre\n",
    "        self.pvp = pvp\n",
    "        self.descripcion = descripcion\n",
    "    def __str__(self):\n",
    "        return\"\"\"\\\n",
    "        Referencia\\t{}\n",
    "        Nombre\\t\\t{}\n",
    "        PVP\\t\\t{}\n",
    "        Descripcion\\t{}\"\"\".format( self.referencia,self.nombre, self.pvp, self.descripcion)\n",
    "\n",
    "class Adorno(Producto):\n",
    "    pass\n",
    "\n",
    "class Alimento(Producto):\n",
    "    productor = \"\"\n",
    "    distribuidor = \"\"\n",
    "    \n",
    "    def __str__(self):\n",
    "        return\"\"\"\\\n",
    "        Referencia\\t{}\n",
    "        Nombre\\t\\t{}\n",
    "        PVP\\t\\t{}\n",
    "        Descripcion\\t{}\n",
    "        Productor\\t{}\n",
    "        Distribuidor\\t{}\"\"\".format( self.referencia,self.nombre, self.pvp, self.descripcion, self.productor, self.distribuidor)\n",
    "\n",
    "    "
   ]
  },
  {
   "cell_type": "code",
   "execution_count": 23,
   "metadata": {},
   "outputs": [],
   "source": [
    "al = Alimento(2035,\"Botella de aceite\",5,\"340 ml\")\n",
    "al.distribuidor=\"melo\"\n",
    "al.productor='melo'"
   ]
  },
  {
   "cell_type": "code",
   "execution_count": 24,
   "metadata": {},
   "outputs": [
    {
     "name": "stdout",
     "output_type": "stream",
     "text": [
      "        Referencia\t2035\n",
      "        Nombre\t\tBotella de aceite\n",
      "        PVP\t\t5\n",
      "        Descripcion\t340 ml\n",
      "        Productor\tmelo\n",
      "        Distribuidor\tmelo\n"
     ]
    }
   ],
   "source": [
    "print(al)"
   ]
  },
  {
   "cell_type": "code",
   "execution_count": 31,
   "metadata": {},
   "outputs": [],
   "source": [
    "class Libro(Producto):\n",
    "    isbn = \"\"\n",
    "    autor = \"\"\n",
    "    \n",
    "    def __str__(self):\n",
    "        return\"\"\"\\\n",
    "        Referencia\\t{}\n",
    "        Nombre\\t\\t{}\n",
    "        PVP\\t\\t{}\n",
    "        Descripcion\\t{}\n",
    "        isbn\\t\\t{}\n",
    "        autor\\t\\t{}\"\"\".format( self.referencia,self.nombre, self.pvp, self.descripcion, self.isbn, self.autor)\n"
   ]
  },
  {
   "cell_type": "code",
   "execution_count": 32,
   "metadata": {},
   "outputs": [],
   "source": [
    "lb = Libro(\"we345\",\"Cantos del sevilla\",50,\"libro de canto\")\n",
    "lb.autor=\"Mario Cylampa\"\n",
    "lb.isbn= 1234556778"
   ]
  },
  {
   "cell_type": "code",
   "execution_count": 33,
   "metadata": {},
   "outputs": [
    {
     "name": "stdout",
     "output_type": "stream",
     "text": [
      "        Referencia\twe345\n",
      "        Nombre\t\tCantos del sevilla\n",
      "        PVP\t\t50\n",
      "        Descripcion\tlibro de canto\n",
      "        isbn\t\t1234556778\n",
      "        autor\t\tMario Cylampa\n"
     ]
    }
   ],
   "source": [
    "print(lb)"
   ]
  },
  {
   "cell_type": "code",
   "execution_count": null,
   "metadata": {},
   "outputs": [],
   "source": []
  }
 ],
 "metadata": {
  "kernelspec": {
   "display_name": "Python 3",
   "language": "python",
   "name": "python3"
  },
  "language_info": {
   "codemirror_mode": {
    "name": "ipython",
    "version": 3
   },
   "file_extension": ".py",
   "mimetype": "text/x-python",
   "name": "python",
   "nbconvert_exporter": "python",
   "pygments_lexer": "ipython3",
   "version": "3.7.1"
  }
 },
 "nbformat": 4,
 "nbformat_minor": 2
}
