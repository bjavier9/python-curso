{
 "cells": [
  {
   "cell_type": "code",
   "execution_count": 21,
   "metadata": {},
   "outputs": [],
   "source": [
    "class Producto:\n",
    "    def __init__(self, referencia,nombre, pvp, descripcion):\n",
    "        self.referencia = referencia\n",
    "        self.nombre = nombre\n",
    "        self.pvp = pvp\n",
    "        self.descripcion = descripcion\n",
    "    def __str__(self):\n",
    "        return\"\"\"\\\n",
    "        Referencia\\t{}\n",
    "        Nombre\\t\\t{}\n",
    "        PVP\\t\\t{}\n",
    "        Descripcion\\t{}\"\"\".format( self.referencia,self.nombre, self.pvp, self.descripcion)\n",
    "\n",
    "class Adorno(Producto):\n",
    "    pass\n",
    "\n",
    "class Alimento(Producto):\n",
    "    productor = \"\"\n",
    "    distribuidor = \"\"\n",
    "    \n",
    "    def __str__(self):\n",
    "        return\"\"\"\\\n",
    "        Referencia\\t{}\n",
    "        Nombre\\t\\t{}\n",
    "        PVP\\t\\t{}\n",
    "        Descripcion\\t{}\n",
    "        Productor\\t{}\n",
    "        Distribuidor\\t{}\"\"\".format( self.referencia,self.nombre, self.pvp, self.descripcion, self.productor, self.distribuidor)\n",
    "\n",
    "class Libro(Producto):\n",
    "    isbn = \"\"\n",
    "    autor = \"\"\n",
    "    \n",
    "    def __str__(self):\n",
    "        return\"\"\"\\\n",
    "        Referencia\\t{}\n",
    "        Nombre\\t\\t{}\n",
    "        PVP\\t\\t{}\n",
    "        Descripcion\\t{}\n",
    "        isbn\\t\\t{}\n",
    "        autor\\t\\t{}\"\"\".format( self.referencia,self.nombre, self.pvp, self.descripcion, self.isbn, self.autor)\n"
   ]
  },
  {
   "cell_type": "code",
   "execution_count": 2,
   "metadata": {},
   "outputs": [],
   "source": [
    "lb = Libro(\"we345\",\"Cantos del sevilla\",50,\"libro de canto\")\n",
    "lb.autor=\"Mario Cylampa\"\n",
    "lb.isbn= 1234556778\n",
    "\n",
    "al = Alimento(2035,\"Botella de aceite\",5,\"340 ml\")\n",
    "al.distribuidor=\"melo\"\n",
    "al.productor='melo'\n",
    "\n",
    "ad = Adorno(2034,\"vaso adorno\",15,\"vaso de vidrio\")"
   ]
  },
  {
   "cell_type": "code",
   "execution_count": 3,
   "metadata": {},
   "outputs": [],
   "source": [
    "productos = [ad, al]"
   ]
  },
  {
   "cell_type": "code",
   "execution_count": 5,
   "metadata": {},
   "outputs": [],
   "source": [
    "productos.append(lb)"
   ]
  },
  {
   "cell_type": "code",
   "execution_count": 7,
   "metadata": {},
   "outputs": [
    {
     "name": "stdout",
     "output_type": "stream",
     "text": [
      "        Referencia\t2034\n",
      "        Nombre\t\tvaso adorno\n",
      "        PVP\t\t15\n",
      "        Descripcion\tvaso de vidrio \n",
      "\n",
      "        Referencia\t2035\n",
      "        Nombre\t\tBotella de aceite\n",
      "        PVP\t\t5\n",
      "        Descripcion\t340 ml\n",
      "        Productor\tmelo\n",
      "        Distribuidor\tmelo \n",
      "\n",
      "        Referencia\twe345\n",
      "        Nombre\t\tCantos del sevilla\n",
      "        PVP\t\t50\n",
      "        Descripcion\tlibro de canto\n",
      "        isbn\t\t1234556778\n",
      "        autor\t\tMario Cylampa \n",
      "\n"
     ]
    }
   ],
   "source": [
    "for p in productos:\n",
    "    print(p,\"\\n\")\n",
    "    "
   ]
  },
  {
   "cell_type": "code",
   "execution_count": 9,
   "metadata": {},
   "outputs": [
    {
     "name": "stdout",
     "output_type": "stream",
     "text": [
      "2034 vaso adorno\n",
      "2035 Botella de aceite melo\n",
      "we345 Cantos del sevilla 1234556778\n"
     ]
    }
   ],
   "source": [
    "for p in productos:\n",
    "    if(isinstance(p, Adorno)):\n",
    "        print(p.referencia, p.nombre)\n",
    "    elif(isinstance(p, Alimento)):\n",
    "        print(p.referencia, p.nombre, p.productor)\n",
    "    elif(isinstance(p, Libro)):\n",
    "        print(p.referencia, p.nombre, p.isbn)"
   ]
  },
  {
   "cell_type": "code",
   "execution_count": 11,
   "metadata": {},
   "outputs": [
    {
     "name": "stdout",
     "output_type": "stream",
     "text": [
      "        Referencia\t2035\n",
      "        Nombre\t\tBotella de aceite\n",
      "        PVP\t\t4.5\n",
      "        Descripcion\t340 ml\n",
      "        Productor\tmelo\n",
      "        Distribuidor\tmelo\n"
     ]
    }
   ],
   "source": [
    "def rebaja_producto(p, rebaja):\n",
    "    p.pvp = p.pvp -(p.pvp/100 * rebaja)\n",
    "    return p\n",
    "rebaja= rebaja_producto(al, 10)\n",
    "print(rebaja)"
   ]
  },
  {
   "cell_type": "code",
   "execution_count": 12,
   "metadata": {},
   "outputs": [],
   "source": [
    "l = [1,2,3,4]"
   ]
  },
  {
   "cell_type": "code",
   "execution_count": 13,
   "metadata": {},
   "outputs": [],
   "source": [
    "l2 = l[:]"
   ]
  },
  {
   "cell_type": "code",
   "execution_count": 14,
   "metadata": {},
   "outputs": [],
   "source": [
    "l2.append(4)"
   ]
  },
  {
   "cell_type": "code",
   "execution_count": 15,
   "metadata": {},
   "outputs": [
    {
     "data": {
      "text/plain": [
       "[1, 2, 3, 4]"
      ]
     },
     "execution_count": 15,
     "metadata": {},
     "output_type": "execute_result"
    }
   ],
   "source": [
    "l"
   ]
  },
  {
   "cell_type": "code",
   "execution_count": 16,
   "metadata": {},
   "outputs": [],
   "source": [
    "import copy\n",
    "copia_ad = copy.copy(ad)"
   ]
  },
  {
   "cell_type": "code",
   "execution_count": 17,
   "metadata": {},
   "outputs": [
    {
     "name": "stdout",
     "output_type": "stream",
     "text": [
      "        Referencia\t2034\n",
      "        Nombre\t\tvaso adorno\n",
      "        PVP\t\t15\n",
      "        Descripcion\tvaso de vidrio\n"
     ]
    }
   ],
   "source": [
    "print(copia_ad)"
   ]
  },
  {
   "cell_type": "code",
   "execution_count": 18,
   "metadata": {},
   "outputs": [],
   "source": [
    "copia_ad.pvp=25"
   ]
  },
  {
   "cell_type": "code",
   "execution_count": 19,
   "metadata": {},
   "outputs": [
    {
     "name": "stdout",
     "output_type": "stream",
     "text": [
      "        Referencia\t2034\n",
      "        Nombre\t\tvaso adorno\n",
      "        PVP\t\t25\n",
      "        Descripcion\tvaso de vidrio\n"
     ]
    }
   ],
   "source": [
    "print(copia_ad)"
   ]
  },
  {
   "cell_type": "code",
   "execution_count": 20,
   "metadata": {},
   "outputs": [
    {
     "name": "stdout",
     "output_type": "stream",
     "text": [
      "        Referencia\t2034\n",
      "        Nombre\t\tvaso adorno\n",
      "        PVP\t\t15\n",
      "        Descripcion\tvaso de vidrio\n"
     ]
    }
   ],
   "source": [
    "print(ad)"
   ]
  },
  {
   "cell_type": "code",
   "execution_count": null,
   "metadata": {},
   "outputs": [],
   "source": []
  }
 ],
 "metadata": {
  "kernelspec": {
   "display_name": "Python 3",
   "language": "python",
   "name": "python3"
  },
  "language_info": {
   "codemirror_mode": {
    "name": "ipython",
    "version": 3
   },
   "file_extension": ".py",
   "mimetype": "text/x-python",
   "name": "python",
   "nbconvert_exporter": "python",
   "pygments_lexer": "ipython3",
   "version": "3.7.1"
  }
 },
 "nbformat": 4,
 "nbformat_minor": 2
}
